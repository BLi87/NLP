{
 "cells": [
  {
   "cell_type": "markdown",
   "metadata": {
    "colab_type": "text",
    "id": "otfXrekHlbNv"
   },
   "source": [
    "Unique ID ends with 1"
   ]
  },
  {
   "cell_type": "code",
   "execution_count": 2,
   "metadata": {
    "colab": {
     "base_uri": "https://localhost:8080/",
     "height": 119
    },
    "colab_type": "code",
    "id": "SorYB6qYSX10",
    "outputId": "6181d3c7-0d20-48c0-8ae4-3a3ba12fd11d"
   },
   "outputs": [
    {
     "name": "stdout",
     "output_type": "stream",
     "text": [
      "Cloning into 'NLP'...\n",
      "remote: Enumerating objects: 3, done.\u001b[K\n",
      "remote: Counting objects: 100% (3/3), done.\u001b[K\n",
      "remote: Compressing objects: 100% (2/2), done.\u001b[K\n",
      "remote: Total 3 (delta 0), reused 0 (delta 0), pack-reused 0\u001b[K\n",
      "Unpacking objects: 100% (3/3), done.\n"
     ]
    }
   ],
   "source": [
    "!git clone https://github.com/BLi87/NLP.git"
   ]
  },
  {
   "cell_type": "code",
   "execution_count": 0,
   "metadata": {
    "colab": {},
    "colab_type": "code",
    "id": "HqhYKSZ8SYv8"
   },
   "outputs": [],
   "source": [
    "import re\n",
    "p = re.compile('[A-Za-z]+')\n",
    "f = open('NLP/Sim_Lex999.txt','rb')\n",
    "pairs_list = []\n",
    "simlex_list = []\n",
    "lines = f.readlines()\n",
    "for i in range(1,len(lines),10):\n",
    "    line = lines[i].decode(\"utf-8\")\n",
    "    words = line.split(':')\n",
    "    pair = []\n",
    "    for j in range(2):\n",
    "        pair.append(words[j])\n",
    "    pairs_list.append(pair)\n",
    "    simlex_list.append(words[2])\n",
    "#pairs_list"
   ]
  },
  {
   "cell_type": "markdown",
   "metadata": {
    "colab_type": "text",
    "id": "jL9l1YeoSZOc"
   },
   "source": [
    "Word2vec"
   ]
  },
  {
   "cell_type": "code",
   "execution_count": 33,
   "metadata": {
    "colab": {
     "base_uri": "https://localhost:8080/",
     "height": 204
    },
    "colab_type": "code",
    "id": "-dAIAB4OC9QF",
    "outputId": "76a58d9a-a492-4137-85d7-4ab264a02224"
   },
   "outputs": [
    {
     "name": "stdout",
     "output_type": "stream",
     "text": [
      "--2020-01-27 23:58:46--  http://mattmahoney.net/dc/text8.zip\n",
      "Resolving mattmahoney.net (mattmahoney.net)... 67.195.197.75\n",
      "Connecting to mattmahoney.net (mattmahoney.net)|67.195.197.75|:80... connected.\n",
      "HTTP request sent, awaiting response... 200 OK\n",
      "Length: 31344016 (30M) [application/zip]\n",
      "Saving to: ‘text8.zip’\n",
      "\n",
      "text8.zip           100%[===================>]  29.89M   292KB/s    in 1m 53s  \n",
      "\n",
      "2020-01-28 00:00:39 (271 KB/s) - ‘text8.zip’ saved [31344016/31344016]\n",
      "\n"
     ]
    }
   ],
   "source": [
    "!wget http://mattmahoney.net/dc/text8.zip -O text8.zip"
   ]
  },
  {
   "cell_type": "code",
   "execution_count": 34,
   "metadata": {
    "colab": {
     "base_uri": "https://localhost:8080/",
     "height": 51
    },
    "colab_type": "code",
    "id": "CZvwHBuPC-_9",
    "outputId": "9f2f783e-ff54-4564-80c9-24478219b5f3"
   },
   "outputs": [
    {
     "name": "stdout",
     "output_type": "stream",
     "text": [
      "Archive:  text8.zip\n",
      "  inflating: text8                   \n"
     ]
    }
   ],
   "source": [
    "!unzip text8.zip"
   ]
  },
  {
   "cell_type": "code",
   "execution_count": 35,
   "metadata": {
    "colab": {
     "base_uri": "https://localhost:8080/",
     "height": 326
    },
    "colab_type": "code",
    "id": "4J7UopAS9NMX",
    "outputId": "b5b1c90e-c68e-4bf6-b945-a5f9bcaddc1f"
   },
   "outputs": [
    {
     "name": "stdout",
     "output_type": "stream",
     "text": [
      "Requirement already satisfied: gensim in /usr/local/lib/python3.6/dist-packages (3.6.0)\n",
      "Requirement already satisfied: scipy>=0.18.1 in /usr/local/lib/python3.6/dist-packages (from gensim) (1.4.1)\n",
      "Requirement already satisfied: smart-open>=1.2.1 in /usr/local/lib/python3.6/dist-packages (from gensim) (1.9.0)\n",
      "Requirement already satisfied: six>=1.5.0 in /usr/local/lib/python3.6/dist-packages (from gensim) (1.12.0)\n",
      "Requirement already satisfied: numpy>=1.11.3 in /usr/local/lib/python3.6/dist-packages (from gensim) (1.17.5)\n",
      "Requirement already satisfied: requests in /usr/local/lib/python3.6/dist-packages (from smart-open>=1.2.1->gensim) (2.21.0)\n",
      "Requirement already satisfied: boto>=2.32 in /usr/local/lib/python3.6/dist-packages (from smart-open>=1.2.1->gensim) (2.49.0)\n",
      "Requirement already satisfied: boto3 in /usr/local/lib/python3.6/dist-packages (from smart-open>=1.2.1->gensim) (1.10.47)\n",
      "Requirement already satisfied: urllib3<1.25,>=1.21.1 in /usr/local/lib/python3.6/dist-packages (from requests->smart-open>=1.2.1->gensim) (1.24.3)\n",
      "Requirement already satisfied: idna<2.9,>=2.5 in /usr/local/lib/python3.6/dist-packages (from requests->smart-open>=1.2.1->gensim) (2.8)\n",
      "Requirement already satisfied: chardet<3.1.0,>=3.0.2 in /usr/local/lib/python3.6/dist-packages (from requests->smart-open>=1.2.1->gensim) (3.0.4)\n",
      "Requirement already satisfied: certifi>=2017.4.17 in /usr/local/lib/python3.6/dist-packages (from requests->smart-open>=1.2.1->gensim) (2019.11.28)\n",
      "Requirement already satisfied: s3transfer<0.3.0,>=0.2.0 in /usr/local/lib/python3.6/dist-packages (from boto3->smart-open>=1.2.1->gensim) (0.2.1)\n",
      "Requirement already satisfied: jmespath<1.0.0,>=0.7.1 in /usr/local/lib/python3.6/dist-packages (from boto3->smart-open>=1.2.1->gensim) (0.9.4)\n",
      "Requirement already satisfied: botocore<1.14.0,>=1.13.47 in /usr/local/lib/python3.6/dist-packages (from boto3->smart-open>=1.2.1->gensim) (1.13.47)\n",
      "Requirement already satisfied: docutils<0.16,>=0.10 in /usr/local/lib/python3.6/dist-packages (from botocore<1.14.0,>=1.13.47->boto3->smart-open>=1.2.1->gensim) (0.15.2)\n",
      "Requirement already satisfied: python-dateutil<3.0.0,>=2.1; python_version >= \"2.7\" in /usr/local/lib/python3.6/dist-packages (from botocore<1.14.0,>=1.13.47->boto3->smart-open>=1.2.1->gensim) (2.6.1)\n"
     ]
    }
   ],
   "source": [
    "!pip install gensim  "
   ]
  },
  {
   "cell_type": "code",
   "execution_count": 0,
   "metadata": {
    "colab": {},
    "colab_type": "code",
    "id": "ycFwBD4iCgCd"
   },
   "outputs": [],
   "source": [
    "from gensim.models import word2vec"
   ]
  },
  {
   "cell_type": "code",
   "execution_count": 37,
   "metadata": {
    "colab": {
     "base_uri": "https://localhost:8080/",
     "height": 88
    },
    "colab_type": "code",
    "id": "LR2M4yEmCu52",
    "outputId": "a6ff2287-2e6a-45f4-a195-d884c1e7e34a"
   },
   "outputs": [
    {
     "name": "stderr",
     "output_type": "stream",
     "text": [
      "WARNING:gensim.models.base_any2vec:consider setting layer size to a multiple of 4 for greater performance\n",
      "/usr/local/lib/python3.6/dist-packages/smart_open/smart_open_lib.py:402: UserWarning: This function is deprecated, use smart_open.open instead. See the migration notes for details: https://github.com/RaRe-Technologies/smart_open/blob/master/README.rst#migrating-to-the-new-open-function\n",
      "  'See the migration notes for details: %s' % _MIGRATION_NOTES_URL\n"
     ]
    }
   ],
   "source": [
    "# https://github.com/dav/word2vec/blob/master/scripts/create-text8-vector-data.sh#L16\n",
    "model = word2vec.Word2Vec(corpus_file='text8', sg=0, size=50, window=8, negative=25, hs=0, sample=1e-4, workers=20, min_count=5, iter=15)"
   ]
  },
  {
   "cell_type": "code",
   "execution_count": 56,
   "metadata": {
    "colab": {
     "base_uri": "https://localhost:8080/",
     "height": 71
    },
    "colab_type": "code",
    "id": "5_io5WFHBo0_",
    "outputId": "e6ec182e-d5b0-43a3-e9a5-575b57f85c8c"
   },
   "outputs": [
    {
     "name": "stderr",
     "output_type": "stream",
     "text": [
      "/usr/local/lib/python3.6/dist-packages/ipykernel_launcher.py:8: DeprecationWarning: Call to deprecated `__getitem__` (Method will be removed in 4.0.0, use self.wv.__getitem__() instead).\n",
      "  \n"
     ]
    }
   ],
   "source": [
    "emb = []\n",
    "skip = []\n",
    "for i in range(len(pairs_list)):\n",
    "  pair = pairs_list[i]\n",
    "  pair_emb = []\n",
    "  for word in pair:\n",
    "    try:\n",
    "      pair_emb.append(model[word])\n",
    "    except Exception:\n",
    "      skip.append(i)\n",
    "  emb.append(pair_emb)"
   ]
  },
  {
   "cell_type": "code",
   "execution_count": 0,
   "metadata": {
    "colab": {},
    "colab_type": "code",
    "id": "mXldckDmSx9o"
   },
   "outputs": [],
   "source": [
    "for s in skip:\n",
    "  pairs_list.pop(s)\n",
    "  simlex_list.pop(s)\n",
    "  emb.pop(s)"
   ]
  },
  {
   "cell_type": "code",
   "execution_count": 59,
   "metadata": {
    "colab": {
     "base_uri": "https://localhost:8080/",
     "height": 204
    },
    "colab_type": "code",
    "id": "ea9Q0EXsgv4C",
    "outputId": "4cc3f78e-7ef4-4f51-dccd-35f99c9f2253"
   },
   "outputs": [
    {
     "data": {
      "text/plain": [
       "array([[-0.2136015 ,  0.90569365,  0.27963474, -0.48110893,  0.57451135,\n",
       "         1.4464704 , -1.3454875 ,  0.64412314, -0.00346148, -0.35573405,\n",
       "         1.0443202 ,  1.3672996 , -0.24228096,  0.12583558,  0.8242539 ,\n",
       "        -1.5369352 , -0.36328244, -0.35383856,  0.6218887 ,  0.73273826,\n",
       "         0.44302413,  0.8419425 ,  1.5535085 ,  1.3699701 , -1.4890182 ,\n",
       "         1.1213768 , -2.0229566 , -0.14090139, -1.2281362 , -0.2628553 ,\n",
       "        -0.01286314,  0.20001209, -1.0302743 ,  0.6520244 ,  0.09903665,\n",
       "         0.20860308, -0.5731039 ,  1.4473426 , -0.5294004 ,  0.33702832,\n",
       "        -0.3510315 ,  0.3031942 ,  0.24547364,  1.0270245 ,  1.8985295 ,\n",
       "         1.0410023 ,  0.2826446 ,  0.53380084,  0.43539327, -1.0802971 ]],\n",
       "      dtype=float32)"
      ]
     },
     "execution_count": 59,
     "metadata": {
      "tags": []
     },
     "output_type": "execute_result"
    }
   ],
   "source": [
    "for i in range(len(emb)):\n",
    "  emb[i][0] = emb[i][0].reshape(1, -1)\n",
    "  emb[i][1] = emb[i][1].reshape(1, -1)"
   ]
  },
  {
   "cell_type": "code",
   "execution_count": 0,
   "metadata": {
    "colab": {},
    "colab_type": "code",
    "id": "RbipngxDC7C2"
   },
   "outputs": [],
   "source": [
    "import numpy as np\n",
    "from sklearn.metrics.pairwise import cosine_similarity\n",
    "pair_sim = []\n",
    "for pair_emb in emb:\n",
    "  e1 = pair_emb[0]\n",
    "  e2 = pair_emb[1]\n",
    "  sim = cosine_similarity(e1,e2)\n",
    "  pair_sim.append(sim)"
   ]
  },
  {
   "cell_type": "code",
   "execution_count": 65,
   "metadata": {
    "colab": {
     "base_uri": "https://localhost:8080/",
     "height": 1000
    },
    "colab_type": "code",
    "id": "0C4dx1VhNPtw",
    "outputId": "41fabd41-f630-408a-a5a9-4fa75e350716"
   },
   "outputs": [
    {
     "name": "stdout",
     "output_type": "stream",
     "text": [
      "old\tnew\t1.58\t0.96836096\n",
      "wide\tnarrow\t1.03\t0.9855121\n",
      "new\tfresh\t6.83\t0.94806737\n",
      "apparent\tobvious\t8.47\t0.9981412\n",
      "confident\tsure\t8.27\t0.04233895\n",
      "bad\tgreat\t0.35\t0.9408385\n",
      "different\tnormal\t1.08\t0.95672256\n",
      "rough\tfrigid\t2.47\t-0.1245805\n",
      "tiny\thuge\t0.6\t0.9984036\n",
      "delightful\tcheerful\t6.58\t0.14448296\n",
      "bold\tproud\t3.97\t0.99737644\n",
      "dirty\tnarrow\t0.3\t0.99891675\n",
      "friend\tbuddy\t8.78\t0.99230504\n",
      "bird\thawk\t7.85\t0.9766632\n",
      "cow\tcattle\t9.52\t0.99475956\n",
      "lady\tgentleman\t3.42\t0.9725\n",
      "wood\tlog\t7.3\t0.9850591\n",
      "storm\thurricane\t6.38\t0.9960467\n",
      "car\thorn\t2.57\t0.9831041\n",
      "clothes\tcloth\t5.47\t-0.09400976\n",
      "window\tdoor\t3.33\t0.99910736\n",
      "death\ttragedy\t5.8\t0.95711416\n",
      "father\tparent\t7.07\t0.90568566\n",
      "cloud\tfog\t6\t0.99663216\n",
      "hand\tfoot\t4.17\t0.99439365\n",
      "motor\tengine\t8.65\t0.9645718\n",
      "house\tkey\t1.9\t0.7774179\n",
      "strength\tmight\t7.07\t0.9903664\n",
      "apple\tjuice\t2.88\t0.9269872\n",
      "cloud\thaze\t7.32\t0.99769276\n",
      "boat\tcar\t2.37\t0.9823234\n",
      "cheek\ttongue\t4.52\t0.9991085\n",
      "breakfast\tbacon\t4.37\t0.9972205\n",
      "man\tfather\t4.83\t0.9680289\n",
      "bean\tcoffee\t5.15\t0.9994622\n",
      "belief\topinion\t7.7\t0.9536807\n",
      "aunt\tnephew\t3.1\t0.99673533\n",
      "physician\tdoctor\t8.88\t0.99524456\n",
      "day\tdawn\t5.47\t0.77954316\n",
      "helper\tmaid\t5.58\t-0.016341483\n",
      "machine\tengine\t5.58\t0.96287644\n",
      "mother\twife\t3.02\t0.9907674\n",
      "crowd\tbunch\t7.42\t-0.17711312\n",
      "danger\tthreat\t8.78\t0.9987976\n",
      "god\tprey\t1.23\t0.9948859\n",
      "guy\tstud\t5.83\t-0.35427243\n",
      "sugar\thoney\t5.13\t0.9957832\n",
      "arm\tknee\t2.75\t-0.10127184\n",
      "argument\tagreement\t1.45\t0.9800185\n",
      "whiskey\tgin\t6.28\t0.9946761\n",
      "wealth\tfame\t4.02\t0.99843943\n",
      "boy\tpartner\t1.9\t0.9906467\n",
      "camp\tcabin\t4.2\t0.9919939\n",
      "adult\tbaby\t2.22\t0.99243903\n",
      "river\tsea\t5.72\t0.9914373\n",
      "money\tpearl\t2.1\t0.9903271\n",
      "cancer\tsickness\t7.93\t0.9953898\n",
      "ignorance\tintelligence\t1.5\t0.97606933\n",
      "hysteria\tconfusion\t6.33\t-0.25950804\n",
      "danger\tdisease\t3\t0.9964154\n",
      "molecule\tair\t3.05\t0.89336896\n",
      "ballad\tsong\t7.53\t0.9980663\n",
      "crowd\tparade\t3.93\t0.9947496\n",
      "tobacco\tcigarette\t7.5\t0.9989756\n",
      "bone\tteeth\t4.17\t0.999261\n",
      "archbishop\tbishop\t7.05\t0.99955\n",
      "clothes\tjacket\t5.15\t0.9912898\n",
      "assignment\ttask\t8.7\t0.9561059\n",
      "fee\tsalary\t3.72\t0.9957366\n",
      "box\that\t1.3\t0.9930885\n",
      "car\tfactory\t2.75\t0.9891309\n",
      "endurance\tband\t0.4\t-0.015891906\n",
      "presence\tdoor\t0.48\t0.9930569\n",
      "diet\tapple\t1.18\t0.9144842\n",
      "people\tcent\t0.48\t0.9526831\n",
      "couch\tbaseball\t0.88\t0.99089307\n",
      "people\tballoon\t0.48\t0.092319824\n",
      "think\trationalize\t8.25\t0.03846481\n",
      "ignore\tavoid\t6.87\t0.9994629\n",
      "receive\tgive\t1.47\t0.9981533\n",
      "destroy\tmake\t1.6\t0.9615702\n",
      "succeed\tfail\t0.83\t0.98860765\n",
      "arrive\tleave\t1.33\t0.9935017\n",
      "participate\tjoin\t7.7\t0.9905834\n",
      "speak\thear\t3.02\t0.9893444\n",
      "create\tbuild\t8.48\t0.9912241\n",
      "locate\tfind\t8.73\t0.9804233\n",
      "achieve\ttry\t4.42\t0.99704623\n",
      "conclude\tdecide\t7.75\t0.99056196\n",
      "make\tbecome\t4.77\t0.98348737\n",
      "agree\tplease\t4.13\t0.9900884\n",
      "reject\tavoid\t4.78\t0.99678445\n",
      "withdraw\treject\t6.38\t0.9905658\n",
      "breathe\tchoke\t1.37\t-0.13669968\n",
      "forget\tretain\t0.63\t0.16706276\n",
      "bring\tsend\t2.97\t0.9991989\n",
      "join\tmarry\t5.35\t0.9932688\n",
      "portray\tdecide\t1.18\t0.977459\n",
      "enter\towe\t0.68\t0.9816575\n"
     ]
    }
   ],
   "source": [
    "for i in range(99):\n",
    "  line = pairs_list[i][0]+'\\t'+pairs_list[i][1]+'\\t'+simlex_list[i]+'\\t'+str(pair_sim[i][0][0])\n",
    "  print(line)"
   ]
  },
  {
   "cell_type": "code",
   "execution_count": 0,
   "metadata": {
    "colab": {},
    "colab_type": "code",
    "id": "r63sraRsJcOv"
   },
   "outputs": [],
   "source": []
  },
  {
   "cell_type": "markdown",
   "metadata": {
    "colab_type": "text",
    "id": "CrRDXWTyTOhV"
   },
   "source": [
    "Universal Sentence Encoder"
   ]
  },
  {
   "cell_type": "code",
   "execution_count": 0,
   "metadata": {
    "colab": {},
    "colab_type": "code",
    "id": "BIsLncGhTR7F"
   },
   "outputs": [],
   "source": [
    "import re\n",
    "p = re.compile('[A-Za-z]+')\n",
    "f = open('NLP/Sim_Lex999.txt','rb')\n",
    "pairs_list = []\n",
    "simlex_list = []\n",
    "lines = f.readlines()\n",
    "for i in range(1,len(lines),10):\n",
    "    line = lines[i].decode(\"utf-8\")\n",
    "    words = line.split(':')\n",
    "    pair = []\n",
    "    for j in range(2):\n",
    "        pair.append(words[j])\n",
    "    pairs_list.append(pair)\n",
    "    simlex_list.append(words[2])\n",
    "#pairs_list"
   ]
  },
  {
   "cell_type": "code",
   "execution_count": 0,
   "metadata": {
    "colab": {},
    "colab_type": "code",
    "id": "8LGwG4rTTUa6"
   },
   "outputs": [],
   "source": [
    "# Install the latest Tensorflow version.\n",
    "!pip3 install --quiet \"tensorflow>=1.7\"\n",
    "# Install TF-Hub.\n",
    "!pip3 install --quiet tensorflow-hub\n",
    "!pip3 install --quiet seaborn"
   ]
  },
  {
   "cell_type": "code",
   "execution_count": 5,
   "metadata": {
    "colab": {
     "base_uri": "https://localhost:8080/",
     "height": 63
    },
    "colab_type": "code",
    "id": "lzbJPRleTbes",
    "outputId": "91f211e7-ae4b-410d-9819-a887b382f61d"
   },
   "outputs": [
    {
     "data": {
      "text/html": [
       "<p style=\"color: red;\">\n",
       "The default version of TensorFlow in Colab will soon switch to TensorFlow 2.x.<br>\n",
       "We recommend you <a href=\"https://www.tensorflow.org/guide/migrate\" target=\"_blank\">upgrade</a> now \n",
       "or ensure your notebook will continue to use TensorFlow 1.x via the <code>%tensorflow_version 1.x</code> magic:\n",
       "<a href=\"https://colab.research.google.com/notebooks/tensorflow_version.ipynb\" target=\"_blank\">more info</a>.</p>\n"
      ],
      "text/plain": [
       "<IPython.core.display.HTML object>"
      ]
     },
     "metadata": {
      "tags": []
     },
     "output_type": "display_data"
    }
   ],
   "source": [
    "import tensorflow as tf\n",
    "import tensorflow_hub as hub\n",
    "import matplotlib.pyplot as plt\n",
    "import numpy as np\n",
    "import os\n",
    "import pandas as pd\n",
    "import re\n",
    "import seaborn as sns\n",
    "import numpy as np\n",
    "from sklearn.metrics.pairwise import cosine_similarity"
   ]
  },
  {
   "cell_type": "code",
   "execution_count": 0,
   "metadata": {
    "colab": {},
    "colab_type": "code",
    "id": "DMVJ_qPgTZ8i"
   },
   "outputs": [],
   "source": [
    "module_url = \"https://tfhub.dev/google/universal-sentence-encoder/2\" #@param [\"https://tfhub.dev/google/universal-sentence-encoder/2\", \"https://tfhub.dev/google/universal-sentence-encoder-large/3\"]"
   ]
  },
  {
   "cell_type": "code",
   "execution_count": 0,
   "metadata": {
    "colab": {},
    "colab_type": "code",
    "id": "B_2j17VjTdnc"
   },
   "outputs": [],
   "source": [
    "# Import the Universal Sentence Encoder's TF Hub module\n",
    "embed = hub.Module(module_url)\n",
    "\n",
    "# Compute a representation for each message, showing various lengths supported.\n",
    "emb = []\n",
    "allwords = []\n",
    "for pair in pairs_list:\n",
    "  allwords.append(pair[0])\n",
    "  allwords.append(pair[1])\n",
    "# Reduce logging output.\n",
    "embeddings = []\n",
    "tf.logging.set_verbosity(tf.logging.ERROR)\n",
    "with tf.Session() as session:\n",
    "  session.run([tf.global_variables_initializer(), tf.tables_initializer()])\n",
    "  embeddings = session.run(embed(allwords))\n",
    "   "
   ]
  },
  {
   "cell_type": "code",
   "execution_count": 0,
   "metadata": {
    "colab": {},
    "colab_type": "code",
    "id": "ACkTdnJmZRkV"
   },
   "outputs": [],
   "source": [
    "import numpy as np\n",
    "from sklearn.metrics.pairwise import cosine_similarity\n",
    "pair_sim = []\n",
    "for i in range(0,len(embeddings),2):\n",
    "  e1 = embeddings[i].reshape(1,-1)\n",
    "  e2 = embeddings[i+1].reshape(1,-1)\n",
    "  sim = cosine_similarity(e1,e2)\n",
    "  pair_sim.append(sim)\n"
   ]
  },
  {
   "cell_type": "code",
   "execution_count": 93,
   "metadata": {
    "colab": {
     "base_uri": "https://localhost:8080/",
     "height": 1000
    },
    "colab_type": "code",
    "id": "-zzt4YtaaJ_-",
    "outputId": "4334ad5b-6f18-46d4-adcc-b9df69fb86fc"
   },
   "outputs": [
    {
     "name": "stdout",
     "output_type": "stream",
     "text": [
      "old\tnew\t1.58\t0.16042242773602355\n",
      "wide\tnarrow\t1.03\t-0.009739628265926321\n",
      "new\tfresh\t6.83\t0.08948526431737609\n",
      "apparent\tobvious\t8.47\t0.006201697280407171\n",
      "confident\tsure\t8.27\t0.0216326406024917\n",
      "bad\tgreat\t0.35\t-0.059478409860208525\n",
      "different\tnormal\t1.08\t0.06277468601885422\n",
      "rough\tfrigid\t2.47\t0.013931363660740714\n",
      "tiny\thuge\t0.6\t0.04133480769751524\n",
      "delightful\tcheerful\t6.58\t0.11665222802643486\n",
      "bold\tproud\t3.97\t0.15992090207422197\n",
      "dirty\tnarrow\t0.3\t0.08822134561518517\n",
      "friend\tbuddy\t8.78\t-0.013246983069138704\n",
      "bird\thawk\t7.85\t0.17674998742158987\n",
      "cow\tcattle\t9.52\t0.009782236543559416\n",
      "lady\tgentleman\t3.42\t-0.0686389616208033\n",
      "wood\tlog\t7.3\t0.08762789723196432\n",
      "storm\thurricane\t6.38\t0.003937705735969192\n",
      "car\thorn\t2.57\t0.02751225997396716\n",
      "clothes\tcloth\t5.47\t0.041652647941416605\n",
      "window\tdoor\t3.33\t0.12613305663810384\n",
      "death\ttragedy\t5.8\t0.07949922648097951\n",
      "father\tparent\t7.07\t0.014954937871732474\n",
      "cloud\tfog\t6\t-0.2528036907180911\n",
      "hand\tfoot\t4.17\t0.07558560057609263\n",
      "motor\tengine\t8.65\t0.03481433287772538\n",
      "house\tkey\t1.9\t0.05053022532151156\n",
      "strength\tmight\t7.07\t-0.10453716996494963\n",
      "apple\tjuice\t2.88\t0.008929962145845256\n",
      "cloud\thaze\t7.32\t0.11097771038649479\n",
      "boat\tcar\t2.37\t0.05828496946665647\n",
      "cheek\ttongue\t4.52\t-0.17481417855326883\n",
      "breakfast\tbacon\t4.37\t0.019794230415693864\n",
      "man\tfather\t4.83\t-0.05314057775105754\n",
      "bean\tcoffee\t5.15\t0.028261326949383433\n",
      "belief\topinion\t7.7\t-0.028556436356601045\n",
      "aunt\tnephew\t3.1\t0.001595179791029109\n",
      "physician\tdoctor\t8.88\t-0.15002721663422652\n",
      "day\tdawn\t5.47\t-0.1818648705452947\n",
      "helper\tmaid\t5.58\t0.10188533804766309\n",
      "machine\tengine\t5.58\t0.12134884854932802\n",
      "mother\twife\t3.02\t-0.004030481375606612\n",
      "crowd\tbunch\t7.42\t0.037029383860353246\n",
      "danger\tthreat\t8.78\t0.11779720746997493\n",
      "god\tprey\t1.23\t0.00838430905836641\n",
      "guy\tstud\t5.83\t0.21153837501310524\n",
      "sugar\thoney\t5.13\t0.013834362257300612\n",
      "arm\tknee\t2.75\t0.03556488614675658\n",
      "argument\tagreement\t1.45\t-0.08061647975539116\n",
      "whiskey\tgin\t6.28\t0.0012994487519642495\n",
      "wealth\tfame\t4.02\t0.03564235497839655\n",
      "boy\tpartner\t1.9\t0.02895551465300157\n",
      "camp\tcabin\t4.2\t-0.05175958543204791\n",
      "adult\tbaby\t2.22\t-0.0389818868891822\n",
      "river\tsea\t5.72\t-0.03314702666569379\n",
      "money\tpearl\t2.1\t-0.004566876857266731\n",
      "cancer\tsickness\t7.93\t-0.01845025533779289\n",
      "ignorance\tintelligence\t1.5\t-0.02868481038977966\n",
      "hysteria\tconfusion\t6.33\t-0.061359841676880716\n",
      "danger\tdisease\t3\t0.15902416819104703\n",
      "ballad\tsong\t7.53\t0.13593814836576856\n",
      "crowd\tparade\t3.93\t0.09202774186216932\n",
      "classroom\thallway\t2\t0.05367982265656328\n",
      "tobacco\tcigarette\t7.5\t0.09919094645557014\n",
      "bone\tteeth\t4.17\t0.032188747475711446\n",
      "archbishop\tbishop\t7.05\t0.06414207601625084\n",
      "clothes\tjacket\t5.15\t-0.0921301346350939\n",
      "assignment\ttask\t8.7\t-0.053146742963701615\n",
      "fee\tsalary\t3.72\t-0.011936320914587717\n",
      "box\that\t1.3\t-0.045161341021272235\n",
      "car\tfactory\t2.75\t0.11588817765058122\n",
      "endurance\tband\t0.4\t-0.1250839525267125\n",
      "presence\tdoor\t0.48\t-0.11535822332190956\n",
      "diet\tapple\t1.18\t0.0421458738878023\n",
      "people\tcent\t0.48\t0.19088967350061847\n",
      "couch\tbaseball\t0.88\t-0.14407164977352327\n",
      "people\tballoon\t0.48\t0.006061095270527552\n",
      "think\trationalize\t8.25\t-0.06372804409690601\n",
      "ignore\tavoid\t6.87\t-0.03838375202681378\n",
      "receive\tgive\t1.47\t-0.09881216715665327\n",
      "destroy\tmake\t1.6\t0.023944312047536657\n",
      "succeed\tfail\t0.83\t0.010660911280536969\n",
      "arrive\tleave\t1.33\t-0.03493189522589144\n",
      "participate\tjoin\t7.7\t0.020343691203382926\n",
      "speak\thear\t3.02\t0.02437195050513515\n",
      "create\tbuild\t8.48\t0.07006865371145313\n",
      "locate\tfind\t8.73\t-0.16434667012566756\n",
      "achieve\ttry\t4.42\t0.04815371639208896\n",
      "conclude\tdecide\t7.75\t-0.15492169447204965\n",
      "make\tbecome\t4.77\t0.0168187337299777\n",
      "agree\tplease\t4.13\t0.03895716349918343\n",
      "reject\tavoid\t4.78\t0.03629700863530608\n",
      "withdraw\treject\t6.38\t-0.06348303995847515\n",
      "breathe\tchoke\t1.37\t0.17110776320786208\n",
      "forget\tretain\t0.63\t0.20690248392431554\n",
      "bring\tsend\t2.97\t-0.1454011195718792\n",
      "join\tmarry\t5.35\t-0.0032015264975251475\n",
      "portray\tdecide\t1.18\t0.18450038055823445\n",
      "enter\towe\t0.68\t0.050768988298819706\n"
     ]
    }
   ],
   "source": [
    "for i in range(99):\n",
    "  line = pairs_list[i][0]+'\\t'+pairs_list[i][1]+'\\t'+simlex_list[i]+'\\t'+str(pair_sim[i][0][0])\n",
    "  print(line)"
   ]
  },
  {
   "cell_type": "code",
   "execution_count": 0,
   "metadata": {
    "colab": {},
    "colab_type": "code",
    "id": "NZpThfcycmq9"
   },
   "outputs": [],
   "source": []
  },
  {
   "cell_type": "code",
   "execution_count": 0,
   "metadata": {
    "colab": {},
    "colab_type": "code",
    "id": "kw0wig9pcmtQ"
   },
   "outputs": [],
   "source": []
  },
  {
   "cell_type": "markdown",
   "metadata": {
    "colab_type": "text",
    "id": "FWf9Kbzqcoim"
   },
   "source": [
    "CBOW"
   ]
  },
  {
   "cell_type": "code",
   "execution_count": 79,
   "metadata": {
    "colab": {
     "base_uri": "https://localhost:8080/",
     "height": 394
    },
    "colab_type": "code",
    "collapsed": true,
    "id": "COOML3pAcptv",
    "outputId": "b1ae07db-ec3d-416c-e4b7-10b9317356ad"
   },
   "outputs": [
    {
     "name": "stdout",
     "output_type": "stream",
     "text": [
      "--2020-01-28 00:32:38--  https://raw.githubusercontent.com/udacity/deep-learning/master/sentiment-network/reviews.txt\n",
      "Resolving raw.githubusercontent.com (raw.githubusercontent.com)... 151.101.0.133, 151.101.64.133, 151.101.128.133, ...\n",
      "Connecting to raw.githubusercontent.com (raw.githubusercontent.com)|151.101.0.133|:443... connected.\n",
      "HTTP request sent, awaiting response... 200 OK\n",
      "Length: 33678267 (32M) [text/plain]\n",
      "Saving to: ‘reviews.txt’\n",
      "\n",
      "reviews.txt         100%[===================>]  32.12M  --.-KB/s    in 0.1s    \n",
      "\n",
      "2020-01-28 00:32:40 (260 MB/s) - ‘reviews.txt’ saved [33678267/33678267]\n",
      "\n",
      "bromwell high is a cartoon comedy . it ran at the same time as some other programs about school life  such as  teachers  . my   years in the teaching profession lead me to believe that bromwell high  s satire is much closer to reality than is  teachers  . the scramble to survive financially  the insightful students who can see right through their pathetic teachers  pomp  the pettiness of the whole situation  all remind me of the schools i knew and their students . when i saw the episode in which a student repeatedly tried to burn down the school  i immediately recalled . . . . . . . . . at . . . . . . . . . . high . a classic line inspector i  m here to sack one of your teachers . student welcome to bromwell high . i expect that many adults of my age think that bromwell high is far fetched . what a pity that it isn  t   \n",
      "story of a man who has unnatural feelings for a pig . starts out with a opening scene that is a terrific example of absurd comedy . a formal orchestra audience is turned into an insane  violent mob by the crazy chantings of it  s singers . unfortunately it stays absurd the whole time with no general narrative eventually making it just too off putting . even those from the era should be turned off . the cryptic dialogue would make shakespeare seem easy to a third grader . on a technical level it  s better than you might think with some good cinematography by future great vilmos zsigmond . future stars sally kirkland and frederic forrest can be seen briefly .  \n",
      "homelessness  or houselessness as george carlin stated  has been an issue for years but never a plan to help those on the street that were once considered human who did everything from going to school  work  or vote for the matter . most people think of the homeless as just a lost cause while worrying about things such as racism  the war on iraq  pressuring kids to succeed  technology  the elections  inflation  or worrying if they  ll be next to end up on the streets .  br    br   but what if you were given a bet to live on the streets for a month without the luxuries you once had from a home  the entertainment sets  a bathroom  pictures on the wall  a computer  and everything you once treasure to see what it  s like to be homeless  that is goddard bolt  s lesson .  br    br   mel brooks  who directs  who stars as bolt plays a rich man who has everything in the world until deciding to make a bet with a sissy rival  jeffery tambor  to see if he can live in the streets for thirty days without the luxuries if bolt succeeds  he can do what he wants with a future project of making more buildings . the bet  s on where bolt is thrown on the street with a bracelet on his leg to monitor his every move where he can  t step off the sidewalk . he  s given the nickname pepto by a vagrant after it  s written on his forehead where bolt meets other characters including a woman by the name of molly  lesley ann warren  an ex  dancer who got divorce before losing her home  and her pals sailor  howard morris  and fumes  teddy wilson  who are already used to the streets . they  re survivors . bolt isn  t . he  s not used to reaching mutual agreements like he once did when being rich where it  s fight or flight  kill or be killed .  br    br   while the love connection between molly and bolt wasn  t necessary to plot  i found  life stinks  to be one of mel brooks  observant films where prior to being a comedy  it shows a tender side compared to his slapstick work such as blazing saddles  young frankenstein  or spaceballs for the matter  to show what it  s like having something valuable before losing it the next day or on the other hand making a stupid bet like all rich people do when they don  t know what to do with their money . maybe they should give it to the homeless instead of using it like monopoly money .  br    br   or maybe this film will inspire you to help others .  \n",
      "airport    starts as a brand new luxury    plane is loaded up with valuable paintings  such belonging to rich businessman philip stevens  james stewart  who is flying them  a bunch of vip  s to his estate in preparation of it being opened to the public as a museum  also on board is stevens daughter julie  kathleen quinlan   her son . the luxury jetliner takes off as planned but mid  air the plane is hi  jacked by the co  pilot chambers  robert foxworth   his two accomplice  s banker  monte markham   wilson  michael pataki  who knock the passengers  crew out with sleeping gas  they plan to steal the valuable cargo  land on a disused plane strip on an isolated island but while making his descent chambers almost hits an oil rig in the ocean  loses control of the plane sending it crashing into the sea where it sinks to the bottom right bang in the middle of the bermuda triangle . with air in short supply  water leaking in  having flown over    miles off course the problems mount for the survivor  s as they await help with time fast running out . . .  br    br   also known under the slightly different tile airport     this second sequel to the smash  hit disaster thriller airport       was directed by jerry jameson  while once again like it  s predecessors i can  t say airport    is any sort of forgotten classic it is entertaining although not necessarily for the right reasons . out of the three airport films i have seen so far i actually liked this one the best  just . it has my favourite plot of the three with a nice mid  air hi  jacking  then the crashing  didn  t he see the oil rig    sinking of the     maybe the makers were trying to cross the original airport with another popular disaster flick of the period the poseidon adventure         submerged is where it stays until the end with a stark dilemma facing those trapped inside  either suffocate when the air runs out or drown as the    floods or if any of the doors are opened  it  s a decent idea that could have made for a great little disaster flick but bad unsympathetic character  s  dull dialogue  lethargic set  pieces  a real lack of danger or suspense or tension means this is a missed opportunity . while the rather sluggish plot keeps one entertained for    odd minutes not that much happens after the plane sinks  there  s not as much urgency as i thought there should have been . even when the navy become involved things don  t pick up that much with a few shots of huge ships  helicopters flying about but there  s just something lacking here . george kennedy as the jinxed airline worker joe patroni is back but only gets a couple of scenes  barely even says anything preferring to just look worried in the background .  br    br   the home video  theatrical version of airport    run    minutes while the us tv versions add an extra hour of footage including a new opening credits sequence  many more scenes with george kennedy as patroni  flashbacks to flesh out character  s  longer rescue scenes  the discovery or another couple of dead bodies including the navigator . while i would like to see this extra footage i am not sure i could sit through a near three hour cut of airport    . as expected the film has dated badly with horrible fashions  interior design choices  i will say no more other than the toy plane model effects aren  t great either . along with the other two airport sequels this takes pride of place in the razzie award  s hall of shame although i can think of lots of worse films than this so i reckon that  s a little harsh . the action scenes are a little dull unfortunately  the pace is slow  not much excitement or tension is generated which is a shame as i reckon this could have been a pretty good film if made properly .  br    br   the production values are alright if nothing spectacular . the acting isn  t great  two time oscar winner jack lemmon has said since it was a mistake to star in this  one time oscar winner james stewart looks old  frail  also one time oscar winner lee grant looks drunk while sir christopher lee is given little to do  there are plenty of other familiar faces to look out for too .  br    br   airport    is the most disaster orientated of the three airport films so far  i liked the ideas behind it even if they were a bit silly  the production  bland direction doesn  t help though  a film about a sunken plane just shouldn  t be this boring or lethargic . followed by the concorde . . . airport          .  \n",
      "brilliant over  acting by lesley ann warren . best dramatic hobo lady i have ever seen  and love scenes in clothes warehouse are second to none . the corn on face is a classic  as good as anything in blazing saddles . the take on lawyers is also superb . after being accused of being a turncoat  selling out his boss  and being dishonest the lawyer of pepto bolt shrugs indifferently  i  m a lawyer  he says . three funny words . jeffrey tambor  a favorite from the later larry sanders show  is fantastic here too as a mad millionaire who wants to crush the ghetto . his character is more malevolent than usual . the hospital scene  and the scene where the homeless invade a demolition site  are all  time classics . look for the legs scene and the two big diggers fighting  one bleeds  . this movie gets better each time i see it  which is quite often  .  \n",
      "this film lacked something i couldn  t put my finger on at first charisma on the part of the leading actress . this inevitably translated to lack of chemistry when she shared the screen with her leading man . even the romantic scenes came across as being merely the actors at play . it could very well have been the director who miscalculated what he needed from the actors . i just don  t know .  br    br   but could it have been the screenplay  just exactly who was the chef in love with  he seemed more enamored of his culinary skills and restaurant  and ultimately of himself and his youthful exploits  than of anybody or anything else . he never convinced me he was in love with the princess .  br    br   i was disappointed in this movie . but  don  t forget it was nominated for an oscar  so judge for yourself .  \n",
      "this is easily the most underrated film inn the brooks cannon . sure  its flawed . it does not give a realistic view of homelessness  unlike  say  how citizen kane gave a realistic view of lounge singers  or titanic gave a realistic view of italians you idiots  . many of the jokes fall flat . but still  this film is very lovable in a way many comedies are not  and to pull that off in a story about some of the most traditionally reviled members of society is truly impressive . its not the fisher king  but its not crap  either . my only complaint is that brooks should have cast someone else in the lead  i love mel as a director and writer  not so much as a lead  .  \n",
      "sorry everyone    i know this is supposed to be an  art  film   but wow  they should have handed out guns at the screening so people could blow their brains out and not watch . although the scene design and photographic direction was excellent  this story is too painful to watch . the absence of a sound track was brutal . the loooonnnnng shots were too long . how long can you watch two people just sitting there and talking  especially when the dialogue is two people complaining . i really had a hard time just getting through this film . the performances were excellent  but how much of that dark  sombre  uninspired  stuff can you take  the only thing i liked was maureen stapleton and her red dress and dancing scene . otherwise this was a ripoff of bergman . and i  m no fan f his either . i think anyone who says they enjoyed     hours of this is   well  lying .  \n",
      "this is not the typical mel brooks film . it was much less slapstick than most of his movies and actually had a plot that was followable . leslie ann warren made the movie  she is such a fantastic  under  rated actress . there were some moments that could have been fleshed out a bit more  and some scenes that could probably have been cut to make the room to do so  but all in all  this is worth the price to rent and see it . the acting was good overall  brooks himself did a good job without his characteristic speaking to directly to the audience . again  warren was the best actor in the movie  but  fume  and  sailor  both played their parts well .  \n",
      "when i was little my parents took me along to the theater to see interiors . it was one of many movies i watched with my parents  but this was the only one we walked out of . since then i had never seen interiors until just recently  and i could have lived out the rest of my life without it . what a pretentious  ponderous  and painfully boring piece of    s wine and cheese tripe . woody allen is one of my favorite directors but interiors is by far the worst piece of crap of his career . in the unmistakable style of ingmar berman  allen gives us a dark  angular  muted  insight in to the lives of a family wrought by the psychological damage caused by divorce  estrangement  career  love  non  love  halitosis  whatever . the film  intentionally  has no comic relief  no music  and is drenched in shadowy pathos . this film style can be best defined as expressionist in nature  using an improvisational method of dialogue to illicit a  more pronounced depth of meaning and truth  . but woody allen is no ingmar bergman . the film is painfully slow and dull . but beyond that  i simply had no connection with or sympathy for any of the characters . instead i felt only contempt for this parade of shuffling  whining  nicotine stained  martyrs in a perpetual quest for identity . amid a backdrop of cosmopolitan affluence and baked brie intelligentsia the story looms like a fart in the room . everyone speaks in affected platitudes and elevated language between cigarettes . everyone is  lost  and  struggling   desperate to find direction or understanding or whatever and it just goes on and on to the point where you just want to slap all of them . it  s never about resolution  it  s only about interminable introspective babble . it is nothing more than a psychological drama taken to an extreme beyond the audience  s ability to connect . woody allen chose to make characters so immersed in themselves we feel left out . and for that reason i found this movie painfully self indulgent and spiritually draining . i see what he was going for but his insistence on promoting his message through prozac prose and distorted film techniques jettisons it past the point of relevance . i highly recommend this one if you  re feeling a little too happy and need something to remind you of death . otherwise  let  s just pretend this film never happened .  \n"
     ]
    }
   ],
   "source": [
    "!wget \"https://raw.githubusercontent.com/udacity/deep-learning/master/sentiment-network/reviews.txt\"\n",
    "!cat reviews.txt | head"
   ]
  },
  {
   "cell_type": "code",
   "execution_count": 80,
   "metadata": {
    "colab": {
     "base_uri": "https://localhost:8080/",
     "height": 459
    },
    "colab_type": "code",
    "id": "jmfzcJCOigqF",
    "outputId": "12b8d620-8745-4514-871e-4ca0942fd7ea"
   },
   "outputs": [
    {
     "name": "stdout",
     "output_type": "stream",
     "text": [
      "--2020-01-28 00:32:50--  https://raw.githubusercontent.com/udacity/deep-learning/master/sentiment-network/labels.txt\n",
      "Resolving raw.githubusercontent.com (raw.githubusercontent.com)... 151.101.0.133, 151.101.64.133, 151.101.128.133, ...\n",
      "Connecting to raw.githubusercontent.com (raw.githubusercontent.com)|151.101.0.133|:443... connected.\n",
      "HTTP request sent, awaiting response... 200 OK\n",
      "Length: 225000 (220K) [text/plain]\n",
      "Saving to: ‘labels.txt’\n",
      "\n",
      "\r",
      "labels.txt            0%[                    ]       0  --.-KB/s               \r",
      "labels.txt          100%[===================>] 219.73K  --.-KB/s    in 0.009s  \n",
      "\n",
      "2020-01-28 00:32:50 (24.4 MB/s) - ‘labels.txt’ saved [225000/225000]\n",
      "\n",
      "positive\n",
      "negative\n",
      "positive\n",
      "negative\n",
      "positive\n",
      "negative\n",
      "positive\n",
      "negative\n",
      "positive\n",
      "negative\n",
      "positive\n",
      "negative\n",
      "positive\n",
      "negative\n",
      "positive\n"
     ]
    }
   ],
   "source": [
    "!wget \"https://raw.githubusercontent.com/udacity/deep-learning/master/sentiment-network/labels.txt\"\n",
    "!cat labels.txt | head -15"
   ]
  },
  {
   "cell_type": "code",
   "execution_count": 0,
   "metadata": {
    "colab": {},
    "colab_type": "code",
    "id": "3ylBF9nsiiLh"
   },
   "outputs": [],
   "source": [
    "def pretty_print_review_and_label(i):\n",
    "   print(labels[i] + \"\\t:\\t\" + reviews[i][:80] + \"...\")\n",
    "\n",
    "g = open('reviews.txt','r') # What we know!\n",
    "reviews = list(map(lambda x:x[:-1],g.readlines()))\n",
    "g.close()\n",
    "\n",
    "g = open('labels.txt','r') # What we WANT to know!\n",
    "labels = list(map(lambda x:x[:-1].upper(),g.readlines()))\n",
    "g.close()"
   ]
  },
  {
   "cell_type": "code",
   "execution_count": 82,
   "metadata": {
    "colab": {
     "base_uri": "https://localhost:8080/",
     "height": 34
    },
    "colab_type": "code",
    "id": "ISkCL82kijZ1",
    "outputId": "c47d95f3-63dc-4e7c-e35b-168f0500cedd"
   },
   "outputs": [
    {
     "name": "stdout",
     "output_type": "stream",
     "text": [
      "Sent Encoding:[1 1 0 1]\n"
     ]
    }
   ],
   "source": [
    "import numpy as np\n",
    "\n",
    "onehots = {}\n",
    "onehots['cat'] = np.array([1,0,0,0])\n",
    "onehots['the'] = np.array([0,1,0,0])\n",
    "onehots['dog'] = np.array([0,0,1,0])\n",
    "onehots['sat'] = np.array([0,0,0,1])\n",
    "\n",
    "sentence = ['the','cat','sat']\n",
    "x = onehots[sentence[0]] + \\\n",
    "    onehots[sentence[1]] + \\\n",
    "    onehots[sentence[2]]\n",
    "\n",
    "print(\"Sent Encoding:\" + str(x))"
   ]
  },
  {
   "cell_type": "code",
   "execution_count": 0,
   "metadata": {
    "colab": {},
    "colab_type": "code",
    "id": "8tzRxVIkiktD"
   },
   "outputs": [],
   "source": [
    "import sys\n",
    "\n",
    "f = open('reviews.txt')\n",
    "raw_reviews = f.readlines()\n",
    "f.close()\n",
    "\n",
    "f = open('labels.txt')\n",
    "raw_labels = f.readlines()\n",
    "f.close()\n",
    "\n",
    "tokens = list(map(lambda x:set(x.split(\" \")),raw_reviews))\n",
    "\n",
    "vocab = set()\n",
    "for sent in tokens:\n",
    "    for word in sent:\n",
    "        if(len(word)>0):\n",
    "            vocab.add(word)\n",
    "vocab = list(vocab)\n",
    "\n",
    "word2index = {}\n",
    "for i,word in enumerate(vocab):\n",
    "    word2index[word]=i\n",
    "\n",
    "input_dataset = list()\n",
    "for sent in tokens:\n",
    "    sent_indices = list()\n",
    "    for word in sent:\n",
    "        try:\n",
    "            sent_indices.append(word2index[word])\n",
    "        except:\n",
    "            \"\"\n",
    "    input_dataset.append(list(set(sent_indices)))\n",
    "\n",
    "target_dataset = list()\n",
    "for label in raw_labels:\n",
    "    if label == 'positive\\n':\n",
    "        target_dataset.append(1)\n",
    "    else:\n",
    "        target_dataset.append(0)"
   ]
  },
  {
   "cell_type": "code",
   "execution_count": 84,
   "metadata": {
    "colab": {
     "base_uri": "https://localhost:8080/",
     "height": 238
    },
    "colab_type": "code",
    "id": "z5To9kodim_E",
    "outputId": "daeede9b-9b1b-4554-f065-8f8258674a5b"
   },
   "outputs": [
    {
     "name": "stdout",
     "output_type": "stream",
     "text": [
      "[[-0.0165956   0.0440649  -0.09997713 ...  0.0147359  -0.09942593\n",
      "   0.02342898]\n",
      " [-0.03467102  0.00541162  0.07718842 ... -0.05312758  0.02335567\n",
      "   0.08980326]\n",
      " [ 0.09003522  0.01133064  0.08312127 ... -0.08407478  0.09656342\n",
      "  -0.06367743]\n",
      " ...\n",
      " [-0.07656205 -0.09023205 -0.00978559 ... -0.0008865  -0.04352412\n",
      "  -0.06427378]\n",
      " [-0.08444666 -0.07143386 -0.05731608 ... -0.06584719 -0.02770722\n",
      "   0.09327983]\n",
      " [ 0.03695404 -0.05106593  0.02970002 ...  0.0043325   0.00801544\n",
      "  -0.09468272]]\n"
     ]
    }
   ],
   "source": [
    "import numpy as np\n",
    "np.random.seed(1)\n",
    "\n",
    "def sigmoid(x):\n",
    "    return 1/(1 + np.exp(-x))\n",
    "\n",
    "alpha, iterations = (0.01, 2)\n",
    "hidden_size = 100\n",
    "\n",
    "weights_0_1 = 0.2*np.random.random((len(vocab),hidden_size)) - 0.1\n",
    "weights_1_2 = 0.2*np.random.random((hidden_size,1)) - 0.1\n",
    "\n",
    "\n",
    "print (weights_0_1)"
   ]
  },
  {
   "cell_type": "code",
   "execution_count": 0,
   "metadata": {
    "colab": {},
    "colab_type": "code",
    "id": "KnHn4ZtHinBd"
   },
   "outputs": [],
   "source": [
    "import re\n",
    "p = re.compile('[A-Za-z]+')\n",
    "f = open('NLP/Sim_Lex999.txt','rb')\n",
    "pairs_list = []\n",
    "simlex_list = []\n",
    "lines = f.readlines()\n",
    "for i in range(1,len(lines),10):\n",
    "    line = lines[i].decode(\"utf-8\")\n",
    "    words = line.split(':')\n",
    "    pair = []\n",
    "    for j in range(2):\n",
    "        pair.append(words[j])\n",
    "    pairs_list.append(pair)\n",
    "    simlex_list.append(words[2])\n",
    "#pairs_list"
   ]
  },
  {
   "cell_type": "code",
   "execution_count": 0,
   "metadata": {
    "colab": {},
    "colab_type": "code",
    "id": "pvPdMFpwip1s"
   },
   "outputs": [],
   "source": [
    "allwords = []\n",
    "for pair in pairs_list:\n",
    "  allwords.append(pair[0])\n",
    "  allwords.append(pair[1])\n",
    "embeddings = []\n",
    "skip = []\n",
    "for i in range(len(allwords)):\n",
    "  word = allwords[i]\n",
    "  try:\n",
    "    target_index = word2index[word]\n",
    "    embeddings.append(weights_0_1[target_index])  \n",
    "  except Exception:\n",
    "    skip.append(i)\n"
   ]
  },
  {
   "cell_type": "code",
   "execution_count": 87,
   "metadata": {
    "colab": {
     "base_uri": "https://localhost:8080/",
     "height": 442
    },
    "colab_type": "code",
    "id": "hGSb3_d2ircb",
    "outputId": "0c3d678f-81ab-4a9a-d420-64ff819abc63"
   },
   "outputs": [
    {
     "data": {
      "text/plain": [
       "array([ 6.05485721e-02,  5.62168560e-02, -6.48110756e-02,  4.47740119e-02,\n",
       "       -5.59565378e-02, -1.94668427e-02,  7.80201026e-02, -3.68743318e-02,\n",
       "       -7.12996972e-02, -6.74770555e-02, -2.62505762e-02,  9.30908096e-02,\n",
       "       -5.35686925e-02,  1.64093955e-02,  4.36766469e-02, -4.69012590e-02,\n",
       "        6.48403917e-02,  2.91215319e-03, -9.93968973e-02, -7.09461695e-02,\n",
       "        2.99650351e-02, -1.74474309e-02, -3.66502119e-03,  4.32685411e-02,\n",
       "        3.59975748e-02, -4.65470853e-02, -4.03058472e-02, -3.64680053e-02,\n",
       "        1.52416949e-02,  5.98732316e-02,  4.91613686e-02,  7.19189016e-02,\n",
       "       -6.89871052e-02, -2.80875172e-02,  8.74245121e-02,  4.27066926e-02,\n",
       "        8.98896042e-02,  5.13768660e-03,  7.39903312e-02, -5.02099850e-02,\n",
       "        6.79021184e-02,  9.99631062e-02, -5.36368170e-02,  9.82755453e-02,\n",
       "       -2.82389484e-02, -4.97883717e-02, -4.07436764e-02,  9.25463258e-02,\n",
       "        9.49961269e-02,  5.32606865e-02,  3.65702413e-03,  4.74528064e-02,\n",
       "        7.41785360e-02, -3.98956391e-02, -6.97179651e-02, -1.41210767e-02,\n",
       "       -3.50912503e-02,  9.36731367e-02,  2.32669093e-02,  3.76916448e-02,\n",
       "       -6.74768126e-02, -8.30903693e-02, -1.59879793e-02, -2.75456810e-02,\n",
       "       -4.01841239e-02,  2.15435337e-02, -9.56273766e-02,  3.63003718e-02,\n",
       "       -1.21758693e-02, -9.65212278e-02,  2.90689098e-02,  8.97810413e-02,\n",
       "        5.31390350e-02, -1.91160579e-02, -6.06264850e-02,  9.11050699e-02,\n",
       "        1.77523499e-02, -5.97286862e-02,  3.78151088e-02, -8.22524590e-02,\n",
       "       -6.94428682e-02,  6.70956476e-02,  6.94214224e-02,  6.82804590e-02,\n",
       "       -6.49566033e-02, -9.12261608e-02, -2.07614646e-02,  2.57631196e-03,\n",
       "       -4.42526518e-02, -8.10970401e-02, -5.39004167e-02, -4.41714117e-02,\n",
       "       -4.74714144e-02, -8.37486579e-02, -4.92347951e-02, -7.35765255e-02,\n",
       "        3.42105749e-02, -9.09706663e-03, -2.02722643e-05, -9.73719827e-02])"
      ]
     },
     "execution_count": 87,
     "metadata": {
      "tags": []
     },
     "output_type": "execute_result"
    }
   ],
   "source": [
    "pairs_list.pop(int(skip[0]/2))\n",
    "simlex_list.pop(int(skip[0]/2))\n",
    "embeddings.pop(skip[0]+1)"
   ]
  },
  {
   "cell_type": "code",
   "execution_count": 0,
   "metadata": {
    "colab": {},
    "colab_type": "code",
    "id": "KzCzn3uZire4"
   },
   "outputs": [],
   "source": [
    "for i in range(len(embeddings)):\n",
    "  embeddings[i] = embeddings[i].reshape(1,-1)"
   ]
  },
  {
   "cell_type": "code",
   "execution_count": 0,
   "metadata": {
    "colab": {},
    "colab_type": "code",
    "id": "cpNI6a3GirhL"
   },
   "outputs": [],
   "source": [
    "import numpy as np\n",
    "from sklearn.metrics.pairwise import cosine_similarity\n",
    "pair_sim = []\n",
    "for i in range(0,len(embeddings),2):\n",
    "  sim = cosine_similarity(embeddings[i],embeddings[i+1])\n",
    "  pair_sim.append(sim)"
   ]
  },
  {
   "cell_type": "code",
   "execution_count": 90,
   "metadata": {
    "colab": {
     "base_uri": "https://localhost:8080/",
     "height": 1000
    },
    "colab_type": "code",
    "id": "XCqmlBh1iuXx",
    "outputId": "6aca361c-63a1-427c-eee9-1afb2e9fc6ed"
   },
   "outputs": [
    {
     "name": "stdout",
     "output_type": "stream",
     "text": [
      "old\tnew\t1.58\t0.16042242773602355\n",
      "wide\tnarrow\t1.03\t-0.009739628265926321\n",
      "new\tfresh\t6.83\t0.08948526431737609\n",
      "apparent\tobvious\t8.47\t0.006201697280407171\n",
      "confident\tsure\t8.27\t0.0216326406024917\n",
      "bad\tgreat\t0.35\t-0.059478409860208525\n",
      "different\tnormal\t1.08\t0.06277468601885422\n",
      "rough\tfrigid\t2.47\t0.013931363660740714\n",
      "tiny\thuge\t0.6\t0.04133480769751524\n",
      "delightful\tcheerful\t6.58\t0.11665222802643486\n",
      "bold\tproud\t3.97\t0.15992090207422197\n",
      "dirty\tnarrow\t0.3\t0.08822134561518517\n",
      "friend\tbuddy\t8.78\t-0.013246983069138704\n",
      "bird\thawk\t7.85\t0.17674998742158987\n",
      "cow\tcattle\t9.52\t0.009782236543559416\n",
      "lady\tgentleman\t3.42\t-0.0686389616208033\n",
      "wood\tlog\t7.3\t0.08762789723196432\n",
      "storm\thurricane\t6.38\t0.003937705735969192\n",
      "car\thorn\t2.57\t0.02751225997396716\n",
      "clothes\tcloth\t5.47\t0.041652647941416605\n",
      "window\tdoor\t3.33\t0.12613305663810384\n",
      "death\ttragedy\t5.8\t0.07949922648097951\n",
      "father\tparent\t7.07\t0.014954937871732474\n",
      "cloud\tfog\t6\t-0.2528036907180911\n",
      "hand\tfoot\t4.17\t0.07558560057609263\n",
      "motor\tengine\t8.65\t0.03481433287772538\n",
      "house\tkey\t1.9\t0.05053022532151156\n",
      "strength\tmight\t7.07\t-0.10453716996494963\n",
      "apple\tjuice\t2.88\t0.008929962145845256\n",
      "cloud\thaze\t7.32\t0.11097771038649479\n",
      "boat\tcar\t2.37\t0.05828496946665647\n",
      "cheek\ttongue\t4.52\t-0.17481417855326883\n",
      "breakfast\tbacon\t4.37\t0.019794230415693864\n",
      "man\tfather\t4.83\t-0.05314057775105754\n",
      "bean\tcoffee\t5.15\t0.028261326949383433\n",
      "belief\topinion\t7.7\t-0.028556436356601045\n",
      "aunt\tnephew\t3.1\t0.001595179791029109\n",
      "physician\tdoctor\t8.88\t-0.15002721663422652\n",
      "day\tdawn\t5.47\t-0.1818648705452947\n",
      "helper\tmaid\t5.58\t0.10188533804766309\n",
      "machine\tengine\t5.58\t0.12134884854932802\n",
      "mother\twife\t3.02\t-0.004030481375606612\n",
      "crowd\tbunch\t7.42\t0.037029383860353246\n",
      "danger\tthreat\t8.78\t0.11779720746997493\n",
      "god\tprey\t1.23\t0.00838430905836641\n",
      "guy\tstud\t5.83\t0.21153837501310524\n",
      "sugar\thoney\t5.13\t0.013834362257300612\n",
      "arm\tknee\t2.75\t0.03556488614675658\n",
      "argument\tagreement\t1.45\t-0.08061647975539116\n",
      "whiskey\tgin\t6.28\t0.0012994487519642495\n",
      "wealth\tfame\t4.02\t0.03564235497839655\n",
      "boy\tpartner\t1.9\t0.02895551465300157\n",
      "camp\tcabin\t4.2\t-0.05175958543204791\n",
      "adult\tbaby\t2.22\t-0.0389818868891822\n",
      "river\tsea\t5.72\t-0.03314702666569379\n",
      "money\tpearl\t2.1\t-0.004566876857266731\n",
      "cancer\tsickness\t7.93\t-0.01845025533779289\n",
      "ignorance\tintelligence\t1.5\t-0.02868481038977966\n",
      "hysteria\tconfusion\t6.33\t-0.061359841676880716\n",
      "danger\tdisease\t3\t0.15902416819104703\n",
      "ballad\tsong\t7.53\t0.13593814836576856\n",
      "crowd\tparade\t3.93\t0.09202774186216932\n",
      "classroom\thallway\t2\t0.05367982265656328\n",
      "tobacco\tcigarette\t7.5\t0.09919094645557014\n",
      "bone\tteeth\t4.17\t0.032188747475711446\n",
      "archbishop\tbishop\t7.05\t0.06414207601625084\n",
      "clothes\tjacket\t5.15\t-0.0921301346350939\n",
      "assignment\ttask\t8.7\t-0.053146742963701615\n",
      "fee\tsalary\t3.72\t-0.011936320914587717\n",
      "box\that\t1.3\t-0.045161341021272235\n",
      "car\tfactory\t2.75\t0.11588817765058122\n",
      "endurance\tband\t0.4\t-0.1250839525267125\n",
      "presence\tdoor\t0.48\t-0.11535822332190956\n",
      "diet\tapple\t1.18\t0.0421458738878023\n",
      "people\tcent\t0.48\t0.19088967350061847\n",
      "couch\tbaseball\t0.88\t-0.14407164977352327\n",
      "people\tballoon\t0.48\t0.006061095270527552\n",
      "think\trationalize\t8.25\t-0.06372804409690601\n",
      "ignore\tavoid\t6.87\t-0.03838375202681378\n",
      "receive\tgive\t1.47\t-0.09881216715665327\n",
      "destroy\tmake\t1.6\t0.023944312047536657\n",
      "succeed\tfail\t0.83\t0.010660911280536969\n",
      "arrive\tleave\t1.33\t-0.03493189522589144\n",
      "participate\tjoin\t7.7\t0.020343691203382926\n",
      "speak\thear\t3.02\t0.02437195050513515\n",
      "create\tbuild\t8.48\t0.07006865371145313\n",
      "locate\tfind\t8.73\t-0.16434667012566756\n",
      "achieve\ttry\t4.42\t0.04815371639208896\n",
      "conclude\tdecide\t7.75\t-0.15492169447204965\n",
      "make\tbecome\t4.77\t0.0168187337299777\n",
      "agree\tplease\t4.13\t0.03895716349918343\n",
      "reject\tavoid\t4.78\t0.03629700863530608\n",
      "withdraw\treject\t6.38\t-0.06348303995847515\n",
      "breathe\tchoke\t1.37\t0.17110776320786208\n",
      "forget\tretain\t0.63\t0.20690248392431554\n",
      "bring\tsend\t2.97\t-0.1454011195718792\n",
      "join\tmarry\t5.35\t-0.0032015264975251475\n",
      "portray\tdecide\t1.18\t0.18450038055823445\n",
      "enter\towe\t0.68\t0.050768988298819706\n"
     ]
    }
   ],
   "source": [
    "for i in range(99):\n",
    "  line = pairs_list[i][0]+'\\t'+pairs_list[i][1]+'\\t'+simlex_list[i]+'\\t'+str(pair_sim[i][0][0])\n",
    "  print(line)"
   ]
  },
  {
   "cell_type": "code",
   "execution_count": 0,
   "metadata": {
    "colab": {},
    "colab_type": "code",
    "id": "09W0EAvckJHz"
   },
   "outputs": [],
   "source": []
  }
 ],
 "metadata": {
  "accelerator": "GPU",
  "colab": {
   "collapsed_sections": [],
   "name": "HW2 part2.ipynb",
   "provenance": []
  },
  "kernelspec": {
   "display_name": "Python 3",
   "language": "python",
   "name": "python3"
  },
  "language_info": {
   "codemirror_mode": {
    "name": "ipython",
    "version": 3
   },
   "file_extension": ".py",
   "mimetype": "text/x-python",
   "name": "python",
   "nbconvert_exporter": "python",
   "pygments_lexer": "ipython3",
   "version": "3.7.4"
  }
 },
 "nbformat": 4,
 "nbformat_minor": 1
}
